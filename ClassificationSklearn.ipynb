{
  "nbformat": 4,
  "nbformat_minor": 0,
  "metadata": {
    "colab": {
      "provenance": [],
      "gpuType": "T4",
      "include_colab_link": true
    },
    "kernelspec": {
      "name": "python3",
      "display_name": "Python 3"
    },
    "language_info": {
      "name": "python"
    },
    "accelerator": "GPU"
  },
  "cells": [
    {
      "cell_type": "markdown",
      "metadata": {
        "id": "view-in-github",
        "colab_type": "text"
      },
      "source": [
        "<a href=\"https://colab.research.google.com/github/klea0605/RI_projekat/blob/main/Classification.ipynb\" target=\"_parent\"><img src=\"https://colab.research.google.com/assets/colab-badge.svg\" alt=\"Open In Colab\"/></a>"
      ]
    },
    {
      "cell_type": "code",
      "execution_count": 2,
      "metadata": {
        "colab": {
          "base_uri": "https://localhost:8080/"
        },
        "id": "CLmTI3yShSw1",
        "outputId": "2396c011-37cf-4aa0-c3ce-e63ec83eaea7"
      },
      "outputs": [
        {
          "output_type": "stream",
          "name": "stdout",
          "text": [
            "Mounted at /gdrive\n"
          ]
        }
      ],
      "source": [
        "from google.colab import drive\n",
        "drive.mount('/gdrive')"
      ]
    },
    {
      "cell_type": "code",
      "source": [
        "!pip install mne"
      ],
      "metadata": {
        "id": "cY01XtysileI"
      },
      "execution_count": null,
      "outputs": []
    },
    {
      "cell_type": "markdown",
      "source": [],
      "metadata": {
        "id": "J3iIKBqiBHUb"
      }
    },
    {
      "cell_type": "markdown",
      "source": [
        "### Moduli"
      ],
      "metadata": {
        "id": "trsiKKwtia7A"
      }
    },
    {
      "cell_type": "code",
      "source": [
        "import numpy as np\n",
        "import mne\n",
        "from mne.decoding import CSP\n",
        "import os"
      ],
      "metadata": {
        "id": "dLsnFnhahl9f"
      },
      "execution_count": 4,
      "outputs": []
    },
    {
      "cell_type": "code",
      "source": [
        "from sklearn.metrics import accuracy_score\n",
        "from sklearn.preprocessing import MinMaxScaler\n",
        "from sklearn.model_selection import StratifiedKFold, GridSearchCV, KFold\n",
        "from sklearn.ensemble import RandomForestClassifier"
      ],
      "metadata": {
        "id": "FcBVjkX5ic-I"
      },
      "execution_count": 5,
      "outputs": []
    },
    {
      "cell_type": "code",
      "source": [
        "os.chdir('/gdrive/MyDrive/RI')"
      ],
      "metadata": {
        "id": "GYw-MeIVjJAa"
      },
      "execution_count": 6,
      "outputs": []
    },
    {
      "cell_type": "code",
      "source": [
        "import torch"
      ],
      "metadata": {
        "id": "nRRw0Wv3A1ZV"
      },
      "execution_count": 7,
      "outputs": []
    },
    {
      "cell_type": "code",
      "source": [
        "device = 'cuda' if torch.cuda.is_available() else 'cpu'"
      ],
      "metadata": {
        "id": "kviKWMl0AxE7"
      },
      "execution_count": 8,
      "outputs": []
    },
    {
      "cell_type": "markdown",
      "source": [
        "Moduli vezani za dataset"
      ],
      "metadata": {
        "id": "PJvXrF-bivlm"
      }
    },
    {
      "cell_type": "code",
      "source": [
        "from Extract_data import Extract_data_from_subject\n",
        "from TOL_dataset_utils import Select_time_window, Transform_for_classificator"
      ],
      "metadata": {
        "id": "ebJDwVhUiuwR"
      },
      "execution_count": 9,
      "outputs": []
    },
    {
      "cell_type": "markdown",
      "source": [
        "### Inicijalizacija"
      ],
      "metadata": {
        "id": "RJjSk4Ybjc8n"
      }
    },
    {
      "cell_type": "code",
      "source": [
        "# Classification parameters ---------------------------------------------------------------------\n",
        "\n",
        "Subject_numbers = [1]\n",
        "datatype = 'EEG'\n",
        "Conditions = ['IN']  # samo inner speech klasifikujem ali moze i ostalo\n",
        "Classes = [['All']] # all classes = left, right, up, down\n",
        "\n",
        "root_dir = '.'\n",
        "save_dir = './Results/'\n",
        "\n",
        "# Preuzeto od Nieta"
      ],
      "metadata": {
        "id": "50aLV_GLiy5_"
      },
      "execution_count": 10,
      "outputs": []
    },
    {
      "cell_type": "markdown",
      "source": [
        "EEG specificnosti"
      ],
      "metadata": {
        "id": "CQFmh0ymjvfE"
      }
    },
    {
      "cell_type": "code",
      "source": [
        "sample_freq = 254\n",
        "t_start = 1.5  # action interval pocinje ovde za svaki trial (bez obzira na condition)\n",
        "t_end = 3.5   # relaxation interval ovde\n",
        "\n",
        "channels_list = [\"all\"] # Generate features accross all eeg channels\n",
        "\n",
        "# Filter signal band = [low_band , high_band, \"band_name\"]\n",
        "# =============================================================================\n",
        "bands = [\n",
        "          (0.5, 4, 'Delta (0.5-4 Hz)')\n",
        "         ,(4, 8, 'Theta (4-8 Hz)')\n",
        "         ,(8, 12, 'Alpha (8-12 Hz)')\n",
        "         ,(12, 20, 'Low Beta (12-20 Hz)')\n",
        "         ,(20, 30, 'High Beta (20-30 Hz)')\n",
        "         ,(30, 45, 'Low Gamma (30-45Hz)')\n",
        "          ]\n",
        "\n",
        "# Spatial Filter --------------------------------------------------------------\n",
        "# Common Spatial Patterns: trazi u eeg signalima neke relevantnije signale; Verujemo ovom liku\n",
        "n_components = 6\n",
        "rank = None\n",
        "reg = 'empirical'\n",
        "log = True\n",
        "norm_trace = False\n",
        "cov_est = 'concat'\n",
        "transform_into = 'average_power'\n",
        "\n",
        "# Fituje se na filterovane podatke (kasnije)\n",
        "csp = CSP(n_components=n_components,rank=rank, reg=reg, log=log, norm_trace = norm_trace, cov_est = cov_est, transform_into = transform_into)"
      ],
      "metadata": {
        "id": "WYOHwG8wjlvc"
      },
      "execution_count": 12,
      "outputs": []
    },
    {
      "cell_type": "code",
      "source": [
        "scaler = MinMaxScaler()\n",
        "results_save = True"
      ],
      "metadata": {
        "id": "oDnSO5Ksj3vo"
      },
      "execution_count": 13,
      "outputs": []
    },
    {
      "cell_type": "markdown",
      "source": [
        "### Funkcije"
      ],
      "metadata": {
        "id": "MtFS6Ysqj90K"
      }
    },
    {
      "cell_type": "code",
      "source": [
        "# filters X and returns filtered\n",
        "def bandpass_filter(bands, sample_freq, X, device):\n",
        "\n",
        "    X_return = []\n",
        "\n",
        "    for band_number, band in enumerate(bands):\n",
        "                freq_low = band[0]\n",
        "                freq_high = band[1]\n",
        "                X_filtered = mne.filter.filter_data(X, sample_freq, freq_low, freq_high, n_jobs = device) # brat je uzeo funkciju koja radi 2min i ponavlja je stalno na istom skupu ja nz\n",
        "\n",
        "\n",
        "                # Stack features\n",
        "                if band_number == 0:\n",
        "                    X_return = X_filtered\n",
        "                else:\n",
        "                    X_return = np.hstack([X_return, X_filtered])\n",
        "\n",
        "    return X_return"
      ],
      "metadata": {
        "id": "DkdqRz_3j7di"
      },
      "execution_count": 14,
      "outputs": []
    },
    {
      "cell_type": "code",
      "source": [
        "def csp_transform(data_train, y_train, data_test):\n",
        "  Data_train = []\n",
        "  Data_test = []\n",
        "\n",
        "  Data_train = csp.fit_transform(data_train, y_train) # ? zbog ovoga nzm  kako da promenim ovu funkciju\n",
        "  Data_test = csp.transform(data_test)\n",
        "\n",
        "  return Data_train, Data_test"
      ],
      "metadata": {
        "id": "C6tNH0hH5AHW"
      },
      "execution_count": 15,
      "outputs": []
    },
    {
      "cell_type": "code",
      "source": [
        "def save_results_for_participant(results_save, save_dir, Condition, subject, accuracy):\n",
        "     if results_save:\n",
        "        if not os.path.exists(save_dir):\n",
        "            os.makedirs(save_dir)\n",
        "\n",
        "        file_name = save_dir + \"ACCURACY_TEST_CV_\" + Condition  + \"_Subject_\" + str(subject)+ \".npy\"\n",
        "\n",
        "        np.save(file_name, accuracy)"
      ],
      "metadata": {
        "id": "Kumhni2skFDH"
      },
      "execution_count": 16,
      "outputs": []
    },
    {
      "cell_type": "markdown",
      "source": [
        "## Proba"
      ],
      "metadata": {
        "id": "HcZGyGsvrOj6"
      }
    },
    {
      "cell_type": "code",
      "source": [
        "mock_x, mock_y = Extract_data_from_subject(root_dir, 1, datatype)\n",
        "mock_x = Select_time_window(X = mock_x, t_start = t_start, t_end = t_end, fs = sample_freq)"
      ],
      "metadata": {
        "id": "4-d6Ww-MrM0V"
      },
      "execution_count": 17,
      "outputs": []
    },
    {
      "cell_type": "code",
      "source": [
        "mock_x"
      ],
      "metadata": {
        "id": "tthYBFgHrX5f",
        "colab": {
          "base_uri": "https://localhost:8080/"
        },
        "outputId": "2436d1a9-da2b-40ef-e3f8-abbfa0b7ec4b"
      },
      "execution_count": 18,
      "outputs": [
        {
          "output_type": "execute_result",
          "data": {
            "text/plain": [
              "array([[[-9.20076058e-06, -1.30555659e-05, -1.22502267e-05, ...,\n",
              "          1.54674673e-05,  1.01207836e-05,  1.66106374e-05],\n",
              "        [-8.12596647e-06, -1.21511764e-05, -1.15074786e-05, ...,\n",
              "          1.54690240e-05,  9.68146274e-06,  1.68052410e-05],\n",
              "        [-9.34394261e-06, -1.23287744e-05, -1.07789176e-05, ...,\n",
              "          1.52537283e-05,  1.02762168e-05,  1.64546244e-05],\n",
              "        ...,\n",
              "        [-1.38592406e-05, -1.21991260e-05, -1.71679119e-05, ...,\n",
              "          1.80198643e-05,  2.08950247e-05,  1.38826268e-05],\n",
              "        [ 1.91980734e-06,  6.70838512e-06,  3.11662562e-06, ...,\n",
              "          3.91820644e-06,  1.37777326e-05, -5.83427020e-06],\n",
              "        [ 2.05576241e-06,  6.88182136e-06,  2.72501478e-06, ...,\n",
              "          2.88851471e-06,  1.30309223e-05, -5.51879617e-06]],\n",
              "\n",
              "       [[ 4.04231999e-06,  2.28268734e-06,  3.23144830e-06, ...,\n",
              "         -2.09964380e-05, -2.45920055e-05, -1.79599141e-05],\n",
              "        [ 4.62390448e-06,  2.64458121e-06,  4.30135763e-06, ...,\n",
              "         -2.10905993e-05, -2.53439927e-05, -1.82371232e-05],\n",
              "        [ 3.85232236e-06,  2.40262842e-06,  4.67066620e-06, ...,\n",
              "         -1.92225576e-05, -2.49294761e-05, -1.74483478e-05],\n",
              "        ...,\n",
              "        [-2.09518633e-05, -1.40360078e-05, -6.34676849e-06, ...,\n",
              "         -1.71834449e-05, -2.44118661e-05, -2.54802566e-05],\n",
              "        [-2.98247100e-05, -2.29180506e-05, -1.40888009e-05, ...,\n",
              "         -1.11424261e-05, -1.53861372e-05, -1.46352127e-05],\n",
              "        [-3.11401783e-05, -2.24046690e-05, -1.27465349e-05, ...,\n",
              "         -1.04414108e-05, -1.53103157e-05, -1.39709061e-05]],\n",
              "\n",
              "       [[-1.43892145e-05, -1.02082627e-05, -7.96374925e-06, ...,\n",
              "          1.40819456e-05,  1.84982542e-05,  1.87424667e-05],\n",
              "        [-1.31635891e-05, -1.08262280e-05, -7.16567114e-06, ...,\n",
              "          1.41644799e-05,  2.00536778e-05,  1.92337854e-05],\n",
              "        [-1.29833886e-05, -1.01206511e-05, -5.83797092e-06, ...,\n",
              "          1.47983258e-05,  1.82764991e-05,  1.76356603e-05],\n",
              "        ...,\n",
              "        [ 8.68209841e-06,  7.22366522e-06,  1.19305427e-05, ...,\n",
              "          1.26166543e-05,  1.10291424e-05,  1.02431615e-05],\n",
              "        [-4.10854134e-06, -1.14833110e-05, -1.56215813e-06, ...,\n",
              "          1.41697213e-05,  4.86807579e-06,  1.89993973e-06],\n",
              "        [-4.10944671e-06, -1.14388736e-05, -1.33552285e-06, ...,\n",
              "          1.31123426e-05,  4.46497613e-06,  2.23127826e-06]],\n",
              "\n",
              "       ...,\n",
              "\n",
              "       [[-7.42974139e-06, -8.05812042e-06, -7.60454212e-06, ...,\n",
              "          1.57176324e-05,  1.44162018e-05,  1.29654028e-05],\n",
              "        [-7.50319758e-06, -7.92893187e-06, -8.37448616e-06, ...,\n",
              "          1.62948775e-05,  1.46162184e-05,  1.32824926e-05],\n",
              "        [-7.48821962e-06, -7.39398039e-06, -7.64582183e-06, ...,\n",
              "          1.63821794e-05,  1.40642157e-05,  1.37794332e-05],\n",
              "        ...,\n",
              "        [-3.93197703e-07, -4.96674397e-06, -2.74000889e-06, ...,\n",
              "          1.38026380e-05,  7.45477971e-06,  9.20644145e-06],\n",
              "        [-1.85615675e-06, -4.64411476e-06, -5.50902428e-06, ...,\n",
              "         -7.82638443e-07, -1.00462307e-05, -6.71936609e-06],\n",
              "        [-3.42759125e-06, -5.22191968e-06, -6.19622754e-06, ...,\n",
              "          9.26265181e-07, -7.45759572e-06, -4.92193897e-06]],\n",
              "\n",
              "       [[-8.49427830e-06, -5.57356073e-06, -5.68250533e-06, ...,\n",
              "         -1.32738512e-05, -1.81828747e-05, -1.83159455e-05],\n",
              "        [-7.87698945e-06, -4.96577782e-06, -4.54425988e-06, ...,\n",
              "         -1.48896846e-05, -2.06313731e-05, -2.19951856e-05],\n",
              "        [-9.09951727e-06, -6.45367914e-06, -4.83494102e-06, ...,\n",
              "         -1.62738737e-05, -2.15722420e-05, -2.20869023e-05],\n",
              "        ...,\n",
              "        [-7.54509549e-07, -4.88505562e-06,  1.79601722e-07, ...,\n",
              "         -1.06012804e-05, -1.38118615e-05, -2.34970189e-05],\n",
              "        [-2.65347986e-06, -1.20796088e-05, -5.56536087e-06, ...,\n",
              "         -6.69454133e-06, -5.77875590e-06, -1.65511519e-05],\n",
              "        [-2.62678720e-06, -1.10424205e-05, -4.05502171e-06, ...,\n",
              "         -6.04125741e-06, -6.09562254e-06, -1.59942578e-05]],\n",
              "\n",
              "       [[ 1.43496778e-05,  8.78177061e-06,  1.39604451e-05, ...,\n",
              "          1.69306476e-05,  1.52116277e-05,  1.25228819e-05],\n",
              "        [ 1.31636910e-05,  8.22887365e-06,  1.35423635e-05, ...,\n",
              "          1.62358795e-05,  1.44283447e-05,  1.36416019e-05],\n",
              "        [ 1.18696259e-05,  7.79576864e-06,  1.38084468e-05, ...,\n",
              "          1.59297981e-05,  1.47167355e-05,  1.24875401e-05],\n",
              "        ...,\n",
              "        [-3.02510974e-06, -4.91097103e-06, -1.72939914e-06, ...,\n",
              "          3.28331977e-06,  4.86282607e-07,  4.95311350e-06],\n",
              "        [ 1.26069914e-05,  1.37676714e-05,  1.44650827e-05, ...,\n",
              "          5.50689963e-06,  3.17555185e-06,  5.74840281e-06],\n",
              "        [ 1.27652276e-05,  1.47085269e-05,  1.58811245e-05, ...,\n",
              "          4.57306829e-06,  2.65118754e-06,  5.60775633e-06]]])"
            ]
          },
          "metadata": {},
          "execution_count": 18
        }
      ]
    },
    {
      "cell_type": "code",
      "source": [
        "mock_x, mock_y = Transform_for_classificator(mock_x, mock_y, Conditions, Classes)"
      ],
      "metadata": {
        "id": "vBHSanDDrddg"
      },
      "execution_count": 19,
      "outputs": []
    },
    {
      "cell_type": "code",
      "source": [
        "mock_y"
      ],
      "metadata": {
        "colab": {
          "base_uri": "https://localhost:8080/"
        },
        "id": "nP6zmtWnrfr0",
        "outputId": "cfb9f67b-6fde-4163-d95b-1152d3b87220"
      },
      "execution_count": 20,
      "outputs": [
        {
          "output_type": "execute_result",
          "data": {
            "text/plain": [
              "array([1, 1, 3, 3, 3, 0, 2, 3, 3, 1, 0, 1, 3, 3, 1, 2, 0, 2, 0, 3, 1, 0,\n",
              "       1, 1, 3, 2, 2, 0, 1, 2, 2, 0, 1, 2, 3, 0, 2, 0, 0, 2, 3, 0, 2, 0,\n",
              "       1, 1, 3, 0, 2, 3, 3, 0, 2, 1, 1, 1, 3, 1, 1, 2, 3, 1, 1, 0, 2, 3,\n",
              "       3, 0, 2, 0, 2, 2, 0, 0, 0, 1, 2, 3, 3, 2, 1, 1, 2, 2, 3, 0, 0, 2,\n",
              "       1, 1, 3, 1, 2, 0, 3, 0, 0, 0, 2, 1, 1, 1, 3, 2, 1, 2, 0, 1, 2, 3,\n",
              "       2, 3, 3, 0, 3, 3, 2, 3, 0, 0, 1, 1, 3, 1, 0, 3, 2, 2, 0, 0, 0, 0,\n",
              "       3, 0, 1, 2, 2, 2, 1, 2, 1, 2, 3, 3, 0, 3, 0, 0, 3, 1, 2, 1, 1, 0,\n",
              "       3, 2, 3, 3, 1, 2, 2, 2, 1, 2, 0, 0, 1, 1, 3, 2, 1, 2, 0, 1, 3, 3,\n",
              "       3, 3, 0, 0, 3, 0, 2, 1, 3, 3, 0, 1, 2, 2, 0, 0, 1, 3, 0, 3, 2, 1,\n",
              "       2, 1])"
            ]
          },
          "metadata": {},
          "execution_count": 20
        }
      ]
    },
    {
      "cell_type": "code",
      "source": [
        "print(mock_x.shape)\n",
        "print(mock_y.shape)"
      ],
      "metadata": {
        "colab": {
          "base_uri": "https://localhost:8080/"
        },
        "id": "fWQg2lhKrfdZ",
        "outputId": "638df428-4b65-4e17-8a9d-1fa71c10247b"
      },
      "execution_count": 21,
      "outputs": [
        {
          "output_type": "stream",
          "name": "stdout",
          "text": [
            "(200, 128, 508)\n",
            "(200,)\n"
          ]
        }
      ]
    },
    {
      "cell_type": "code",
      "source": [
        "import random"
      ],
      "metadata": {
        "id": "GzGSIKDHr1iy"
      },
      "execution_count": 22,
      "outputs": []
    },
    {
      "cell_type": "code",
      "source": [
        "indices = [i for i in range(200)]"
      ],
      "metadata": {
        "id": "lEeOnA0CthyS"
      },
      "execution_count": 23,
      "outputs": []
    },
    {
      "cell_type": "code",
      "source": [
        "train_indices = random.sample(indices, k = 150)\n",
        "test_indices = list(set(indices).difference(train_indices))"
      ],
      "metadata": {
        "id": "5lvPcViatcGp"
      },
      "execution_count": 24,
      "outputs": []
    },
    {
      "cell_type": "code",
      "source": [
        "test_indices"
      ],
      "metadata": {
        "id": "SPHRc7cDu2ph"
      },
      "execution_count": null,
      "outputs": []
    },
    {
      "cell_type": "code",
      "source": [
        "mock_x = bandpass_filter(bands, 254, mock_x, device)"
      ],
      "metadata": {
        "colab": {
          "base_uri": "https://localhost:8080/"
        },
        "id": "pb_Of6QdBGoj",
        "outputId": "c01d4c86-b1d1-42ea-ea77-28f8de59c75e"
      },
      "execution_count": 27,
      "outputs": [
        {
          "output_type": "stream",
          "name": "stdout",
          "text": [
            "Setting up band-pass filter from 0.5 - 4 Hz\n",
            "\n",
            "FIR filter parameters\n",
            "---------------------\n",
            "Designing a one-pass, zero-phase, non-causal bandpass filter:\n",
            "- Windowed time-domain design (firwin) method\n",
            "- Hamming window with 0.0194 passband ripple and 53 dB stopband attenuation\n",
            "- Lower passband edge: 0.50\n",
            "- Lower transition bandwidth: 0.50 Hz (-6 dB cutoff frequency: 0.25 Hz)\n",
            "- Upper passband edge: 4.00 Hz\n",
            "- Upper transition bandwidth: 2.00 Hz (-6 dB cutoff frequency: 5.00 Hz)\n",
            "- Filter length: 1677 samples (6.602 s)\n",
            "\n",
            "CUDA not enabled in config, skipping initialization\n",
            "CUDA not used, CUDA could not be initialized, falling back to n_jobs=None\n"
          ]
        },
        {
          "output_type": "stream",
          "name": "stderr",
          "text": [
            "<ipython-input-14-0f083eb7b2c8>:9: RuntimeWarning: filter_length (1677) is longer than the signal (508), distortion is likely. Reduce filter length or filter a longer signal.\n",
            "  X_filtered = mne.filter.filter_data(X, sample_freq, freq_low, freq_high, n_jobs = device) # brat je uzeo funkciju koja radi 2min i ponavlja je stalno na istom skupu ja nz\n"
          ]
        },
        {
          "output_type": "stream",
          "name": "stdout",
          "text": [
            "Setting up band-pass filter from 4 - 8 Hz\n",
            "\n",
            "FIR filter parameters\n",
            "---------------------\n",
            "Designing a one-pass, zero-phase, non-causal bandpass filter:\n",
            "- Windowed time-domain design (firwin) method\n",
            "- Hamming window with 0.0194 passband ripple and 53 dB stopband attenuation\n",
            "- Lower passband edge: 4.00\n",
            "- Lower transition bandwidth: 2.00 Hz (-6 dB cutoff frequency: 3.00 Hz)\n",
            "- Upper passband edge: 8.00 Hz\n",
            "- Upper transition bandwidth: 2.00 Hz (-6 dB cutoff frequency: 9.00 Hz)\n",
            "- Filter length: 421 samples (1.657 s)\n",
            "\n",
            "CUDA not enabled in config, skipping initialization\n",
            "CUDA not used, CUDA could not be initialized, falling back to n_jobs=None\n",
            "Setting up band-pass filter from 8 - 12 Hz\n",
            "\n",
            "FIR filter parameters\n",
            "---------------------\n",
            "Designing a one-pass, zero-phase, non-causal bandpass filter:\n",
            "- Windowed time-domain design (firwin) method\n",
            "- Hamming window with 0.0194 passband ripple and 53 dB stopband attenuation\n",
            "- Lower passband edge: 8.00\n",
            "- Lower transition bandwidth: 2.00 Hz (-6 dB cutoff frequency: 7.00 Hz)\n",
            "- Upper passband edge: 12.00 Hz\n",
            "- Upper transition bandwidth: 3.00 Hz (-6 dB cutoff frequency: 13.50 Hz)\n",
            "- Filter length: 421 samples (1.657 s)\n",
            "\n",
            "CUDA not enabled in config, skipping initialization\n",
            "CUDA not used, CUDA could not be initialized, falling back to n_jobs=None\n",
            "Setting up band-pass filter from 12 - 20 Hz\n",
            "\n",
            "FIR filter parameters\n",
            "---------------------\n",
            "Designing a one-pass, zero-phase, non-causal bandpass filter:\n",
            "- Windowed time-domain design (firwin) method\n",
            "- Hamming window with 0.0194 passband ripple and 53 dB stopband attenuation\n",
            "- Lower passband edge: 12.00\n",
            "- Lower transition bandwidth: 3.00 Hz (-6 dB cutoff frequency: 10.50 Hz)\n",
            "- Upper passband edge: 20.00 Hz\n",
            "- Upper transition bandwidth: 5.00 Hz (-6 dB cutoff frequency: 22.50 Hz)\n",
            "- Filter length: 281 samples (1.106 s)\n",
            "\n",
            "CUDA not enabled in config, skipping initialization\n",
            "CUDA not used, CUDA could not be initialized, falling back to n_jobs=None\n",
            "Setting up band-pass filter from 20 - 30 Hz\n",
            "\n",
            "FIR filter parameters\n",
            "---------------------\n",
            "Designing a one-pass, zero-phase, non-causal bandpass filter:\n",
            "- Windowed time-domain design (firwin) method\n",
            "- Hamming window with 0.0194 passband ripple and 53 dB stopband attenuation\n",
            "- Lower passband edge: 20.00\n",
            "- Lower transition bandwidth: 5.00 Hz (-6 dB cutoff frequency: 17.50 Hz)\n",
            "- Upper passband edge: 30.00 Hz\n",
            "- Upper transition bandwidth: 7.50 Hz (-6 dB cutoff frequency: 33.75 Hz)\n",
            "- Filter length: 169 samples (0.665 s)\n",
            "\n",
            "CUDA not enabled in config, skipping initialization\n",
            "CUDA not used, CUDA could not be initialized, falling back to n_jobs=None\n",
            "Setting up band-pass filter from 30 - 45 Hz\n",
            "\n",
            "FIR filter parameters\n",
            "---------------------\n",
            "Designing a one-pass, zero-phase, non-causal bandpass filter:\n",
            "- Windowed time-domain design (firwin) method\n",
            "- Hamming window with 0.0194 passband ripple and 53 dB stopband attenuation\n",
            "- Lower passband edge: 30.00\n",
            "- Lower transition bandwidth: 7.50 Hz (-6 dB cutoff frequency: 26.25 Hz)\n",
            "- Upper passband edge: 45.00 Hz\n",
            "- Upper transition bandwidth: 11.25 Hz (-6 dB cutoff frequency: 50.62 Hz)\n",
            "- Filter length: 113 samples (0.445 s)\n",
            "\n",
            "CUDA not enabled in config, skipping initialization\n",
            "CUDA not used, CUDA could not be initialized, falling back to n_jobs=None\n"
          ]
        }
      ]
    },
    {
      "cell_type": "markdown",
      "source": [
        "Ovo ostavljam da demonstriram koliko dugo radi !"
      ],
      "metadata": {
        "id": "yZSExVYlBKdP"
      }
    },
    {
      "cell_type": "code",
      "source": [],
      "metadata": {
        "id": "Y3I1dyhUrfSJ"
      },
      "execution_count": null,
      "outputs": []
    },
    {
      "cell_type": "code",
      "source": [
        "mock_x # hvala Bogu vise"
      ],
      "metadata": {
        "colab": {
          "base_uri": "https://localhost:8080/"
        },
        "id": "gOGqkdMtvIqk",
        "outputId": "01b936bd-4c5e-4734-ef0a-b936ebabc414"
      },
      "execution_count": 28,
      "outputs": [
        {
          "output_type": "execute_result",
          "data": {
            "text/plain": [
              "array([[[-1.48214714e-07, -1.32448399e-06, -2.49423975e-06, ...,\n",
              "          1.08673705e-06,  6.39286526e-07,  1.88784372e-07],\n",
              "        [-2.15826258e-07, -1.43075482e-06, -2.63903508e-06, ...,\n",
              "          1.47194811e-06,  8.67482313e-07,  2.58905639e-07],\n",
              "        [-1.22292637e-07, -1.23401846e-06, -2.33953752e-06, ...,\n",
              "          1.16716025e-06,  6.68652308e-07,  1.66573595e-07],\n",
              "        ...,\n",
              "        [ 5.13513724e-21,  9.27881694e-07,  2.31986043e-06, ...,\n",
              "         -2.47251660e-06, -2.05237454e-06, -1.50877744e-21],\n",
              "        [ 2.11758237e-22,  2.21092457e-06,  3.43399805e-06, ...,\n",
              "         -1.10676087e-06, -1.17190553e-06, -9.52912066e-22],\n",
              "        [ 6.35274710e-22,  2.92795463e-06,  4.22726442e-06, ...,\n",
              "         -8.37028118e-07, -1.01676405e-06, -1.79994501e-21]],\n",
              "\n",
              "       [[ 8.07219153e-07,  1.78333424e-06,  2.75528590e-06, ...,\n",
              "         -1.77595119e-06, -1.27167054e-06, -7.63585713e-07],\n",
              "        [ 7.43704508e-07,  1.76842588e-06,  2.78862692e-06, ...,\n",
              "         -1.49122890e-06, -1.09812945e-06, -7.02019980e-07],\n",
              "        [ 7.50989456e-07,  1.73171862e-06,  2.70808227e-06, ...,\n",
              "         -1.54586703e-06, -1.13112192e-06, -7.13134005e-07],\n",
              "        ...,\n",
              "        [ 5.08219768e-21,  2.79171087e-06,  3.91610548e-06, ...,\n",
              "          2.65664941e-06,  1.96232155e-06, -4.49986253e-22],\n",
              "        [ 5.50571416e-21,  2.34907415e-06,  3.53532138e-06, ...,\n",
              "          2.95002934e-06,  2.13175643e-06,  2.58080351e-21],\n",
              "        [ 3.38813179e-21,  2.21921574e-06,  3.32243220e-06, ...,\n",
              "          3.00802741e-06,  2.13636216e-06,  2.09111259e-21]],\n",
              "\n",
              "       [[ 2.16902575e-07,  6.55088103e-07,  1.09528085e-06, ...,\n",
              "          5.82009560e-07,  1.83074049e-07, -2.19900397e-07],\n",
              "        [ 1.40624409e-07,  4.11903164e-07,  6.86406575e-07, ...,\n",
              "          7.01949252e-07,  2.77736062e-07, -1.50620427e-07],\n",
              "        [ 1.87997042e-07,  5.49386768e-07,  9.13079871e-07, ...,\n",
              "          6.72535782e-07,  2.40161837e-07, -1.96157386e-07],\n",
              "        ...,\n",
              "        [-4.02340650e-21, -4.52063282e-06, -4.22255166e-06, ...,\n",
              "         -1.62717639e-06, -4.16573308e-07, -2.67344774e-21],\n",
              "        [ 1.37642854e-21, -4.37961783e-06, -4.99681960e-06, ...,\n",
              "         -8.03832315e-08,  1.01335748e-06,  2.11758237e-22],\n",
              "        [ 6.35274710e-22, -4.06345004e-06, -4.66343652e-06, ...,\n",
              "         -5.93732477e-07,  5.12902989e-07, -8.73502727e-22]],\n",
              "\n",
              "       ...,\n",
              "\n",
              "       [[ 2.74883011e-07,  1.59901184e-06,  2.91347685e-06, ...,\n",
              "          4.73329952e-08, -6.45456083e-08, -1.75862305e-07],\n",
              "        [ 2.64294217e-07,  1.60961163e-06,  2.94488494e-06, ...,\n",
              "          1.93252393e-07,  1.44658381e-08, -1.64148371e-07],\n",
              "        [ 2.51744737e-07,  1.58635465e-06,  2.91106315e-06, ...,\n",
              "          2.22508541e-07,  3.12221179e-08, -1.60009913e-07],\n",
              "        ...,\n",
              "        [ 2.75285708e-21,  3.09085717e-06,  2.92669176e-06, ...,\n",
              "         -7.63243212e-07, -6.05557250e-07, -1.90582413e-21],\n",
              "        [ 2.75285708e-21,  3.96895202e-06,  4.22740211e-06, ...,\n",
              "          7.47258001e-07,  7.90923442e-07,  6.61744490e-22],\n",
              "        [ 1.48230766e-21,  2.91269278e-06,  3.13172239e-06, ...,\n",
              "          1.86606550e-06,  1.82739731e-06,  4.76456033e-22]],\n",
              "\n",
              "       [[-6.33544514e-08, -8.52006169e-08, -1.09574049e-07, ...,\n",
              "         -2.19195493e-06, -1.01755418e-06,  1.67419550e-07],\n",
              "        [-1.68737916e-09,  5.20113107e-08,  1.02633777e-07, ...,\n",
              "         -2.36951751e-06, -1.14065110e-06,  9.91559716e-08],\n",
              "        [-3.54892672e-08,  1.10853975e-08,  5.49465444e-08, ...,\n",
              "         -2.25945499e-06, -1.06740355e-06,  1.35388824e-07],\n",
              "        ...,\n",
              "        [-7.41153829e-21, -2.35864742e-06, -2.86706206e-06, ...,\n",
              "          4.10204634e-07,  6.63237498e-07,  7.14684049e-22],\n",
              "        [-5.08219768e-21, -5.64278588e-06, -6.24802918e-06, ...,\n",
              "          4.40137301e-07,  1.01417952e-06,  2.03817303e-21],\n",
              "        [-2.54109884e-21, -5.33224987e-06, -5.87002373e-06, ...,\n",
              "         -2.84763289e-07,  2.79837829e-07,  1.05879118e-21]],\n",
              "\n",
              "       [[ 1.39388997e-07,  5.07899629e-07,  8.73716778e-07, ...,\n",
              "          1.89998608e-07,  6.92849223e-08, -5.44845346e-08],\n",
              "        [ 1.39569655e-07,  5.28657129e-07,  9.14865124e-07, ...,\n",
              "          3.99922681e-07,  1.78072225e-07, -4.76149225e-08],\n",
              "        [ 5.60576420e-08,  3.63167560e-07,  6.67855513e-07, ...,\n",
              "          6.18523217e-07,  3.30190647e-07,  3.78319228e-08],\n",
              "        ...,\n",
              "        [ 1.05879118e-22, -4.06844026e-07, -1.38604240e-06, ...,\n",
              "         -1.71377834e-07, -3.80436007e-07,  4.23516474e-21],\n",
              "        [ 1.37642854e-21, -2.49346737e-06, -3.85050874e-06, ...,\n",
              "          3.31513823e-07,  1.08387028e-07,  1.85288457e-21],\n",
              "        [ 1.74700545e-21, -2.88837369e-06, -4.32212639e-06, ...,\n",
              "         -1.40017949e-07, -1.88134397e-07,  2.01170325e-21]]])"
            ]
          },
          "metadata": {},
          "execution_count": 28
        }
      ]
    },
    {
      "cell_type": "code",
      "source": [
        "mock_x.shape # isuse"
      ],
      "metadata": {
        "colab": {
          "base_uri": "https://localhost:8080/"
        },
        "id": "qpUAI0KnxMVh",
        "outputId": "bc082b93-162e-4a0b-dca7-595b263a64f9"
      },
      "execution_count": 29,
      "outputs": [
        {
          "output_type": "execute_result",
          "data": {
            "text/plain": [
              "(200, 768, 508)"
            ]
          },
          "metadata": {},
          "execution_count": 29
        }
      ]
    },
    {
      "cell_type": "code",
      "source": [],
      "metadata": {
        "id": "TLukvaAc4XUV"
      },
      "execution_count": null,
      "outputs": []
    },
    {
      "cell_type": "markdown",
      "source": [
        "### Klasifikacija"
      ],
      "metadata": {
        "id": "pfI4iyQgkQKa"
      }
    },
    {
      "cell_type": "code",
      "source": [
        "for subject in Subject_numbers:\n",
        "\n",
        "    X, y = Extract_data_from_subject(root_dir, subject, datatype)\n",
        "    # vreme kada postoji nadrazaj\n",
        "    X = Select_time_window(X, t_start, t_end, sample_freq)\n",
        "    # izvlacenje samo covert trial-a za sva 4 pravca\n",
        "    X, y = Transform_for_classificator(X, y, Conditions, Classes)\n",
        "\n",
        "    X = bandpass_filter(bands, sample_freq, X, device) # ! kad se ukloni device arg onda se izvrsava beskonacno\n",
        "\n",
        "    # promenljive: n_splits\n",
        "    inner_cv = StratifiedKFold(n_splits=5, shuffle=True, random_state=42)\n",
        "    outer_cv = KFold(n_splits=3, shuffle=True, random_state=0)\n",
        "\n",
        "    # Modeli za klasifikaciju\n",
        "    models = {\n",
        "        'random_forest': RandomForestClassifier()\n",
        "    }\n",
        "\n",
        "    # Hiperparametri za pretragu\n",
        "    param_grids = {\n",
        "    'random_forest': {\n",
        "        'n_estimators': [10, 50],\n",
        "        'max_depth': [None, 5],\n",
        "        'min_samples_split': [2, 5],\n",
        "        'min_samples_leaf': [1, 2],\n",
        "        'max_features': ['auto', 'sqrt']\n",
        "    }\n",
        "    # },\n",
        "    # 'conv1d': {\n",
        "    #     'filters': [32, 64, 128],\n",
        "    #     'kernel_size': [3, 5, 7],\n",
        "    #     'strides': [1, 2],\n",
        "    #     'activation': ['relu', 'tanh'],\n",
        "    #     'dropout_rate': [0.0, 0.2, 0.4]\n",
        "    # }\n",
        "}\n",
        "\n",
        "    # Dictionaries to store metrics\n",
        "    cv_metrics_log = {model_name: {} for model_name in models}\n",
        "    test_metrics = {model_name: [] for model_name in models}\n",
        "\n",
        "    # Nested CV\n",
        "    for train_valid_indices, test_indices in outer_cv.split(X, y):\n",
        "\n",
        "        # Pretprocesiranje\n",
        "        y_train_valid, y_test = y[train_valid_indices], y[test_indices]\n",
        "        X_train_valid, X_test = csp_transform(X[train_valid_indices], y_train_valid, X[test_indices])\n",
        "        X_train_valid = scaler.fit_transform(X_train_valid) # ? ovo me brine zbog cross validacije u grid_search-u\n",
        "        X_test = scaler.transform(X_test)\n",
        "\n",
        "        for model_name, model in models.items():\n",
        "            # model.to(device)\n",
        "            # Hyperparameter tuning using GridSearchCV                                                                     n_jobs - broj procesora\n",
        "            grid_search = GridSearchCV(estimator=model, param_grid=param_grids[model_name], scoring='accuracy', cv=inner_cv, n_jobs=2)\n",
        "\n",
        "            # Cross validation on X_train_valid\n",
        "            grid_search.fit(X_train_valid, y_train_valid) # ? ovo je problematicno mozda zbog bandpass filtera; isto kao za scaler\n",
        "\n",
        "            # Atributi: best_estimator_, best_score_, best_params_\n",
        "            best_params = grid_search.best_params_\n",
        "            best_score = grid_search.best_score_\n",
        "\n",
        "            cv_metrics_log[model_name] = {'Best params:': best_params,\n",
        "                                          'Best CV score: ': best_score\n",
        "                                          }\n",
        "\n",
        "            # evaluacija na test skupu\n",
        "            best_model = grid_search.best_estimator_\n",
        "            best_model.fit(X_train_valid, y_train_valid)\n",
        "            predictions = best_model.predict(X_test)\n",
        "\n",
        "            test_metrics[model_name].append(accuracy_score(y_test, predictions))\n",
        "\n",
        "            print(f'Subject: {subject} Test_metrics[{model_name}]: {test_metrics[model_name]}')"
      ],
      "metadata": {
        "colab": {
          "base_uri": "https://localhost:8080/"
        },
        "id": "L3a602kqkPZh",
        "outputId": "80c9f5ee-aa4b-401c-8195-006bfcd7d480"
      },
      "execution_count": 31,
      "outputs": [
        {
          "output_type": "stream",
          "name": "stdout",
          "text": [
            "Setting up band-pass filter from 0.5 - 4 Hz\n",
            "\n",
            "FIR filter parameters\n",
            "---------------------\n",
            "Designing a one-pass, zero-phase, non-causal bandpass filter:\n",
            "- Windowed time-domain design (firwin) method\n",
            "- Hamming window with 0.0194 passband ripple and 53 dB stopband attenuation\n",
            "- Lower passband edge: 0.50\n",
            "- Lower transition bandwidth: 0.50 Hz (-6 dB cutoff frequency: 0.25 Hz)\n",
            "- Upper passband edge: 4.00 Hz\n",
            "- Upper transition bandwidth: 2.00 Hz (-6 dB cutoff frequency: 5.00 Hz)\n",
            "- Filter length: 1677 samples (6.602 s)\n",
            "\n",
            "CUDA not enabled in config, skipping initialization\n",
            "CUDA not used, CUDA could not be initialized, falling back to n_jobs=None\n"
          ]
        },
        {
          "output_type": "stream",
          "name": "stderr",
          "text": [
            "<ipython-input-14-0f083eb7b2c8>:9: RuntimeWarning: filter_length (1677) is longer than the signal (508), distortion is likely. Reduce filter length or filter a longer signal.\n",
            "  X_filtered = mne.filter.filter_data(X, sample_freq, freq_low, freq_high, n_jobs = device) # brat je uzeo funkciju koja radi 2min i ponavlja je stalno na istom skupu ja nz\n"
          ]
        },
        {
          "output_type": "stream",
          "name": "stdout",
          "text": [
            "Setting up band-pass filter from 4 - 8 Hz\n",
            "\n",
            "FIR filter parameters\n",
            "---------------------\n",
            "Designing a one-pass, zero-phase, non-causal bandpass filter:\n",
            "- Windowed time-domain design (firwin) method\n",
            "- Hamming window with 0.0194 passband ripple and 53 dB stopband attenuation\n",
            "- Lower passband edge: 4.00\n",
            "- Lower transition bandwidth: 2.00 Hz (-6 dB cutoff frequency: 3.00 Hz)\n",
            "- Upper passband edge: 8.00 Hz\n",
            "- Upper transition bandwidth: 2.00 Hz (-6 dB cutoff frequency: 9.00 Hz)\n",
            "- Filter length: 421 samples (1.657 s)\n",
            "\n",
            "CUDA not enabled in config, skipping initialization\n",
            "CUDA not used, CUDA could not be initialized, falling back to n_jobs=None\n",
            "Setting up band-pass filter from 8 - 12 Hz\n",
            "\n",
            "FIR filter parameters\n",
            "---------------------\n",
            "Designing a one-pass, zero-phase, non-causal bandpass filter:\n",
            "- Windowed time-domain design (firwin) method\n",
            "- Hamming window with 0.0194 passband ripple and 53 dB stopband attenuation\n",
            "- Lower passband edge: 8.00\n",
            "- Lower transition bandwidth: 2.00 Hz (-6 dB cutoff frequency: 7.00 Hz)\n",
            "- Upper passband edge: 12.00 Hz\n",
            "- Upper transition bandwidth: 3.00 Hz (-6 dB cutoff frequency: 13.50 Hz)\n",
            "- Filter length: 421 samples (1.657 s)\n",
            "\n",
            "CUDA not enabled in config, skipping initialization\n",
            "CUDA not used, CUDA could not be initialized, falling back to n_jobs=None\n",
            "Setting up band-pass filter from 12 - 20 Hz\n",
            "\n",
            "FIR filter parameters\n",
            "---------------------\n",
            "Designing a one-pass, zero-phase, non-causal bandpass filter:\n",
            "- Windowed time-domain design (firwin) method\n",
            "- Hamming window with 0.0194 passband ripple and 53 dB stopband attenuation\n",
            "- Lower passband edge: 12.00\n",
            "- Lower transition bandwidth: 3.00 Hz (-6 dB cutoff frequency: 10.50 Hz)\n",
            "- Upper passband edge: 20.00 Hz\n",
            "- Upper transition bandwidth: 5.00 Hz (-6 dB cutoff frequency: 22.50 Hz)\n",
            "- Filter length: 281 samples (1.106 s)\n",
            "\n",
            "CUDA not enabled in config, skipping initialization\n",
            "CUDA not used, CUDA could not be initialized, falling back to n_jobs=None\n",
            "Setting up band-pass filter from 20 - 30 Hz\n",
            "\n",
            "FIR filter parameters\n",
            "---------------------\n",
            "Designing a one-pass, zero-phase, non-causal bandpass filter:\n",
            "- Windowed time-domain design (firwin) method\n",
            "- Hamming window with 0.0194 passband ripple and 53 dB stopband attenuation\n",
            "- Lower passband edge: 20.00\n",
            "- Lower transition bandwidth: 5.00 Hz (-6 dB cutoff frequency: 17.50 Hz)\n",
            "- Upper passband edge: 30.00 Hz\n",
            "- Upper transition bandwidth: 7.50 Hz (-6 dB cutoff frequency: 33.75 Hz)\n",
            "- Filter length: 169 samples (0.665 s)\n",
            "\n",
            "CUDA not enabled in config, skipping initialization\n",
            "CUDA not used, CUDA could not be initialized, falling back to n_jobs=None\n",
            "Setting up band-pass filter from 30 - 45 Hz\n",
            "\n",
            "FIR filter parameters\n",
            "---------------------\n",
            "Designing a one-pass, zero-phase, non-causal bandpass filter:\n",
            "- Windowed time-domain design (firwin) method\n",
            "- Hamming window with 0.0194 passband ripple and 53 dB stopband attenuation\n",
            "- Lower passband edge: 30.00\n",
            "- Lower transition bandwidth: 7.50 Hz (-6 dB cutoff frequency: 26.25 Hz)\n",
            "- Upper passband edge: 45.00 Hz\n",
            "- Upper transition bandwidth: 11.25 Hz (-6 dB cutoff frequency: 50.62 Hz)\n",
            "- Filter length: 113 samples (0.445 s)\n",
            "\n",
            "CUDA not enabled in config, skipping initialization\n",
            "CUDA not used, CUDA could not be initialized, falling back to n_jobs=None\n",
            "Computing rank from data with rank=None\n",
            "    Using tolerance 0.0015 (2.2e-16 eps * 768 dim * 9.1e+09  max singular value)\n",
            "    Estimated rank (mag): 768\n",
            "    MAG: rank 768 computed from 768 data channels with 0 projectors\n",
            "Reducing data rank from 768 -> 768\n",
            "Estimating covariance using EMPIRICAL\n",
            "Done.\n",
            "Computing rank from data with rank=None\n",
            "    Using tolerance 0.0015 (2.2e-16 eps * 768 dim * 8.8e+09  max singular value)\n",
            "    Estimated rank (mag): 768\n",
            "    MAG: rank 768 computed from 768 data channels with 0 projectors\n",
            "Reducing data rank from 768 -> 768\n",
            "Estimating covariance using EMPIRICAL\n",
            "Done.\n",
            "Computing rank from data with rank=None\n",
            "    Using tolerance 0.0018 (2.2e-16 eps * 768 dim * 1e+10  max singular value)\n",
            "    Estimated rank (mag): 768\n",
            "    MAG: rank 768 computed from 768 data channels with 0 projectors\n",
            "Reducing data rank from 768 -> 768\n",
            "Estimating covariance using EMPIRICAL\n",
            "Done.\n",
            "Computing rank from data with rank=None\n",
            "    Using tolerance 0.0021 (2.2e-16 eps * 768 dim * 1.2e+10  max singular value)\n",
            "    Estimated rank (mag): 768\n",
            "    MAG: rank 768 computed from 768 data channels with 0 projectors\n",
            "Reducing data rank from 768 -> 768\n",
            "Estimating covariance using EMPIRICAL\n",
            "Done.\n"
          ]
        },
        {
          "output_type": "stream",
          "name": "stderr",
          "text": [
            "/usr/local/lib/python3.10/dist-packages/sklearn/ensemble/_forest.py:424: FutureWarning: `max_features='auto'` has been deprecated in 1.1 and will be removed in 1.3. To keep the past behaviour, explicitly set `max_features='sqrt'` or remove this parameter as it is also the default value for RandomForestClassifiers and ExtraTreesClassifiers.\n",
            "  warn(\n",
            "/usr/local/lib/python3.10/dist-packages/sklearn/ensemble/_forest.py:424: FutureWarning: `max_features='auto'` has been deprecated in 1.1 and will be removed in 1.3. To keep the past behaviour, explicitly set `max_features='sqrt'` or remove this parameter as it is also the default value for RandomForestClassifiers and ExtraTreesClassifiers.\n",
            "  warn(\n"
          ]
        },
        {
          "output_type": "stream",
          "name": "stdout",
          "text": [
            "Subject: 1 Test_metrics[random_forest]: [0.22388059701492538]\n",
            "Computing rank from data with rank=None\n",
            "    Using tolerance 0.0017 (2.2e-16 eps * 768 dim * 1e+10  max singular value)\n",
            "    Estimated rank (mag): 768\n",
            "    MAG: rank 768 computed from 768 data channels with 0 projectors\n",
            "Reducing data rank from 768 -> 768\n",
            "Estimating covariance using EMPIRICAL\n",
            "Done.\n",
            "Computing rank from data with rank=None\n",
            "    Using tolerance 0.0016 (2.2e-16 eps * 768 dim * 9.1e+09  max singular value)\n",
            "    Estimated rank (mag): 768\n",
            "    MAG: rank 768 computed from 768 data channels with 0 projectors\n",
            "Reducing data rank from 768 -> 768\n",
            "Estimating covariance using EMPIRICAL\n",
            "Done.\n",
            "Computing rank from data with rank=None\n",
            "    Using tolerance 0.0016 (2.2e-16 eps * 768 dim * 9.2e+09  max singular value)\n",
            "    Estimated rank (mag): 768\n",
            "    MAG: rank 768 computed from 768 data channels with 0 projectors\n",
            "Reducing data rank from 768 -> 768\n",
            "Estimating covariance using EMPIRICAL\n",
            "Done.\n",
            "Computing rank from data with rank=None\n",
            "    Using tolerance 0.0018 (2.2e-16 eps * 768 dim * 1.1e+10  max singular value)\n",
            "    Estimated rank (mag): 768\n",
            "    MAG: rank 768 computed from 768 data channels with 0 projectors\n",
            "Reducing data rank from 768 -> 768\n",
            "Estimating covariance using EMPIRICAL\n",
            "Done.\n",
            "Subject: 1 Test_metrics[random_forest]: [0.22388059701492538, 0.2537313432835821]\n",
            "Computing rank from data with rank=None\n",
            "    Using tolerance 0.0017 (2.2e-16 eps * 768 dim * 1e+10  max singular value)\n",
            "    Estimated rank (mag): 768\n",
            "    MAG: rank 768 computed from 768 data channels with 0 projectors\n",
            "Reducing data rank from 768 -> 768\n",
            "Estimating covariance using EMPIRICAL\n",
            "Done.\n",
            "Computing rank from data with rank=None\n",
            "    Using tolerance 0.0014 (2.2e-16 eps * 768 dim * 8.3e+09  max singular value)\n",
            "    Estimated rank (mag): 768\n",
            "    MAG: rank 768 computed from 768 data channels with 0 projectors\n",
            "Reducing data rank from 768 -> 768\n",
            "Estimating covariance using EMPIRICAL\n",
            "Done.\n",
            "Computing rank from data with rank=None\n",
            "    Using tolerance 0.0015 (2.2e-16 eps * 768 dim * 9e+09  max singular value)\n",
            "    Estimated rank (mag): 768\n",
            "    MAG: rank 768 computed from 768 data channels with 0 projectors\n",
            "Reducing data rank from 768 -> 768\n",
            "Estimating covariance using EMPIRICAL\n",
            "Done.\n",
            "Computing rank from data with rank=None\n",
            "    Using tolerance 0.0021 (2.2e-16 eps * 768 dim * 1.2e+10  max singular value)\n",
            "    Estimated rank (mag): 768\n",
            "    MAG: rank 768 computed from 768 data channels with 0 projectors\n",
            "Reducing data rank from 768 -> 768\n",
            "Estimating covariance using EMPIRICAL\n",
            "Done.\n",
            "Subject: 1 Test_metrics[random_forest]: [0.22388059701492538, 0.2537313432835821, 0.2727272727272727]\n"
          ]
        }
      ]
    },
    {
      "cell_type": "code",
      "source": [],
      "metadata": {
        "id": "QsnhhIOzpxmp"
      },
      "execution_count": null,
      "outputs": []
    }
  ]
}
