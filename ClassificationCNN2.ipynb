{
  "cells": [
    {
      "cell_type": "markdown",
      "metadata": {
        "id": "view-in-github",
        "colab_type": "text"
      },
      "source": [
        "<a href=\"https://colab.research.google.com/github/klea0605/RI_projekat/blob/main/ClassificationCNN2.ipynb\" target=\"_parent\"><img src=\"https://colab.research.google.com/assets/colab-badge.svg\" alt=\"Open In Colab\"/></a>"
      ]
    },
    {
      "cell_type": "code",
      "source": [
        "from google.colab import drive\n",
        "drive.mount('/gdrive')"
      ],
      "metadata": {
        "colab": {
          "base_uri": "https://localhost:8080/"
        },
        "id": "t2uSTJ5wwwK-",
        "outputId": "c305ff98-b524-4e23-b784-0df516b91376"
      },
      "execution_count": 2,
      "outputs": [
        {
          "output_type": "stream",
          "name": "stdout",
          "text": [
            "Mounted at /gdrive\n"
          ]
        }
      ]
    },
    {
      "cell_type": "code",
      "source": [
        "!pip install mne"
      ],
      "metadata": {
        "id": "3JKsE1J7wxV4"
      },
      "execution_count": null,
      "outputs": []
    },
    {
      "cell_type": "code",
      "source": [
        "import os"
      ],
      "metadata": {
        "id": "bmGkDetZw0Sa"
      },
      "execution_count": 4,
      "outputs": []
    },
    {
      "cell_type": "code",
      "source": [
        "os.chdir('/gdrive/MyDrive/RI')"
      ],
      "metadata": {
        "id": "orjAnol5w1fL"
      },
      "execution_count": 5,
      "outputs": []
    },
    {
      "cell_type": "code",
      "execution_count": 6,
      "metadata": {
        "id": "4TE58MwMwsSc"
      },
      "outputs": [],
      "source": [
        "import numpy as np"
      ]
    },
    {
      "cell_type": "code",
      "execution_count": 7,
      "metadata": {
        "id": "0n241H7vwsSd"
      },
      "outputs": [],
      "source": [
        "from sklearn.metrics import accuracy_score\n",
        "from sklearn.preprocessing import MinMaxScaler\n",
        "from sklearn.model_selection import StratifiedKFold"
      ]
    },
    {
      "cell_type": "code",
      "execution_count": 8,
      "metadata": {
        "id": "JIFfurpdwsSd"
      },
      "outputs": [],
      "source": [
        "import torch.nn as nn\n",
        "import torch.optim as optim\n",
        "from torch.utils.data import DataLoader, TensorDataset"
      ]
    },
    {
      "cell_type": "code",
      "execution_count": 9,
      "metadata": {
        "id": "9NBvgVmmwsSd"
      },
      "outputs": [],
      "source": [
        "from Extract_data import Extract_data_from_subject\n",
        "from preprocessing import Select_time_window, bandpass_filter\n",
        "from TOL_dataset_utils import Transform_for_classificator\n",
        "from constants import *\n",
        "from models.CNN import CNN\n",
        "from loops import cnn_train_loop, cnn_test_loop"
      ]
    },
    {
      "cell_type": "code",
      "execution_count": 10,
      "metadata": {
        "id": "auPvphj3wsSe"
      },
      "outputs": [],
      "source": [
        "scaler = MinMaxScaler()\n",
        "loss_fn = nn.CrossEntropyLoss()"
      ]
    },
    {
      "cell_type": "code",
      "execution_count": 11,
      "metadata": {
        "id": "NdF_dRckwsSe"
      },
      "outputs": [],
      "source": [
        "def save_results_for_participant(module, model_name, results_save, save_dir, Condition, subject, accuracy_list):\n",
        "     if results_save:\n",
        "        if not os.path.exists(save_dir):\n",
        "            os.makedirs(save_dir)\n",
        "\n",
        "        file_name = save_dir + \"_\" + module + \"_\" + model_name + \"_AVG_CV_\" + Condition  + \"_Subject_\" + str(subject)+ \".npy\"\n",
        "\n",
        "        np.save(file_name, accuracy_list)"
      ]
    },
    {
      "cell_type": "markdown",
      "metadata": {
        "id": "SFpDOOZVwsSe"
      },
      "source": [
        "## Klasifikacija"
      ]
    },
    {
      "cell_type": "code",
      "execution_count": 14,
      "metadata": {
        "colab": {
          "base_uri": "https://localhost:8080/"
        },
        "id": "-zumUTmUwsSf",
        "outputId": "69e3d236-fc4e-44ec-a026-10c71b4107dd"
      },
      "outputs": [
        {
          "output_type": "stream",
          "name": "stderr",
          "text": [
            "/gdrive/MyDrive/RI/preprocessing.py:27: RuntimeWarning: filter_length (1677) is longer than the signal (508), distortion is likely. Reduce filter length or filter a longer signal.\n",
            "  X_filtered = mne.filter.filter_data(X, sample_freq, freq_low, freq_high, n_jobs = n_jobs, verbose = False)\n",
            "/usr/local/lib/python3.10/dist-packages/torch/nn/modules/lazy.py:180: UserWarning: Lazy modules are a new feature under heavy development so changes to the API or functionality can happen at any moment.\n",
            "  warnings.warn('Lazy modules are a new feature under heavy development '\n"
          ]
        },
        {
          "output_type": "stream",
          "name": "stdout",
          "text": [
            "Subject: 1 NN: Avg accuracy: 0.25 Best accuracy: 0.25\n"
          ]
        },
        {
          "output_type": "stream",
          "name": "stderr",
          "text": [
            "/gdrive/MyDrive/RI/preprocessing.py:27: RuntimeWarning: filter_length (1677) is longer than the signal (508), distortion is likely. Reduce filter length or filter a longer signal.\n",
            "  X_filtered = mne.filter.filter_data(X, sample_freq, freq_low, freq_high, n_jobs = n_jobs, verbose = False)\n",
            "/usr/local/lib/python3.10/dist-packages/torch/nn/modules/lazy.py:180: UserWarning: Lazy modules are a new feature under heavy development so changes to the API or functionality can happen at any moment.\n",
            "  warnings.warn('Lazy modules are a new feature under heavy development '\n"
          ]
        },
        {
          "output_type": "stream",
          "name": "stdout",
          "text": [
            "Subject: 2 NN: Avg accuracy: 0.25 Best accuracy: 0.25\n"
          ]
        }
      ],
      "source": [
        "for subject in SUBJECT_NUMBERS:\n",
        "\n",
        "    X, y = Extract_data_from_subject(ROOT, subject, DATA_TYPE)\n",
        "    # vreme kada postoji nadrazaj\n",
        "    X = Select_time_window(X, START_T, END_T, SAMPLE_FREQ)\n",
        "    # izvlacenje samo covert trial-a za sva 4 pravca\n",
        "    X, y = Transform_for_classificator(X, y, CONDITIONS, CLASSES)\n",
        "\n",
        "    X = bandpass_filter(bands, SAMPLE_FREQ, X, DEVICE)\n",
        "\n",
        "    outer_cv = StratifiedKFold(n_splits=N_SPLITS, shuffle=True, random_state=42)\n",
        "\n",
        "\n",
        "    model = CNN()\n",
        "    model.to(DEVICE)\n",
        "    optimizer = optim.Adam(model.parameters(), lr=LR_STEP_SIZE)\n",
        "\n",
        "    # store avg accuracy for each fold\n",
        "    cv_metrics_log = [0 for i in range(N_SPLITS)]\n",
        "\n",
        "    # CV\n",
        "    for i, (train_indices, test_indices) in enumerate(outer_cv.split(X, y)):\n",
        "\n",
        "        # Pretprocesiranje\n",
        "        y_train, y_test = y[train_indices], y[test_indices]\n",
        "        X_train, X_test = X[train_indices], X[test_indices]\n",
        "\n",
        "        # Skaliranje\n",
        "        train_shape = X_train.shape\n",
        "        test_shape = X_test.shape\n",
        "\n",
        "        flattened_X_train = X_train.reshape(train_shape[0], -1)\n",
        "        flattened_X_test = X_test.reshape(test_shape[0], -1)\n",
        "\n",
        "        scaled_train = scaler.fit_transform(flattened_X_train)\n",
        "        X_train = scaled_train.reshape(train_shape)\n",
        "\n",
        "        scaled_test = scaler.transform(flattened_X_test)\n",
        "        X_test = scaled_test.reshape(test_shape)\n",
        "\n",
        "        # Tenzori\n",
        "        X_train = torch.tensor(X_train, dtype=torch.float32)\n",
        "        y_train = torch.tensor(y_train, dtype=torch.int64)\n",
        "        X_test = torch.tensor(X_test, dtype=torch.float32)\n",
        "        y_test = torch.tensor(y_test, dtype=torch.int64)\n",
        "\n",
        "        # Create datasets for cross validation\n",
        "        train_dataset = TensorDataset(X_train, y_train)\n",
        "        test_dataset = TensorDataset(X_test, y_test)\n",
        "        train_dataloader = DataLoader(train_dataset, batch_size = BATCH_SIZE, shuffle = False)\n",
        "        test_dataloader = DataLoader(test_dataset, batch_size = BATCH_SIZE, shuffle = False)\n",
        "\n",
        "        for _ in range(EPOCHS):\n",
        "          cnn_train_loop(train_dataloader, model, loss_fn, optimizer, DEVICE)\n",
        "          cv_metrics_log[i] += cnn_test_loop(test_dataloader, model, loss_fn, DEVICE)\n",
        "\n",
        "        # avg accuracy for current fold\n",
        "        cv_metrics_log[i] /= EPOCHS\n",
        "\n",
        "\n",
        "\n",
        "    # end of CV loop\n",
        "    best_accuracy = max(cv_metrics_log)\n",
        "    avg_model_accuracy = sum(cv_metrics_log)/N_SPLITS\n",
        "    print(f'Subject: {subject} NN: Avg accuracy: {avg_model_accuracy} Best accuracy: {best_accuracy}')\n",
        "    save_results_for_participant(\"TORCH\", \"CNN\", SAVE, SAVE_DIR, CONDITIONS[0], subject, avg_model_accuracy)"
      ]
    },
    {
      "cell_type": "code",
      "source": [],
      "metadata": {
        "id": "XoJgsuLExtRC"
      },
      "execution_count": null,
      "outputs": []
    }
  ],
  "metadata": {
    "kernelspec": {
      "display_name": "base",
      "language": "python",
      "name": "python3"
    },
    "language_info": {
      "codemirror_mode": {
        "name": "ipython",
        "version": 3
      },
      "file_extension": ".py",
      "mimetype": "text/x-python",
      "name": "python",
      "nbconvert_exporter": "python",
      "pygments_lexer": "ipython3",
      "version": "3.9.18"
    },
    "colab": {
      "provenance": [],
      "include_colab_link": true
    }
  },
  "nbformat": 4,
  "nbformat_minor": 0
}