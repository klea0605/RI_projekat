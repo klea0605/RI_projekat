{
 "cells": [
  {
   "cell_type": "code",
   "execution_count": 1,
   "metadata": {},
   "outputs": [],
   "source": [
    "import numpy as np"
   ]
  },
  {
   "cell_type": "code",
   "execution_count": 2,
   "metadata": {},
   "outputs": [],
   "source": [
    "from sklearn.metrics import accuracy_score\n",
    "from sklearn.preprocessing import MinMaxScaler\n",
    "from sklearn.model_selection import StratifiedKFold"
   ]
  },
  {
   "cell_type": "code",
   "execution_count": 3,
   "metadata": {},
   "outputs": [],
   "source": [
    "import torch.nn as nn\n",
    "import torch.optim as optim\n",
    "from torch.utils.data import DataLoader, TensorDataset"
   ]
  },
  {
   "cell_type": "code",
   "execution_count": 20,
   "metadata": {},
   "outputs": [],
   "source": [
    "from Extract_data import Extract_data_from_subject\n",
    "from preprocessing import Select_time_window, bandpass_filter\n",
    "from TOL_dataset_utils import Transform_for_classificator\n",
    "from constants import *\n",
    "from models.CNN import CNN\n",
    "from loops import cnn_train_loop, cnn_test_loop"
   ]
  },
  {
   "cell_type": "code",
   "execution_count": 6,
   "metadata": {},
   "outputs": [],
   "source": [
    "scaler = MinMaxScaler()\n",
    "loss_fn = nn.CrossEntropyLoss()"
   ]
  },
  {
   "cell_type": "code",
   "execution_count": 7,
   "metadata": {},
   "outputs": [],
   "source": [
    "def save_results_for_participant(module, model_name, results_save, save_dir, Condition, subject, accuracy_list):\n",
    "     if results_save:\n",
    "        if not os.path.exists(save_dir):\n",
    "            os.makedirs(save_dir)\n",
    "\n",
    "        file_name = save_dir + \"_\" + module + \"_\" + model_name + \"_AVG_CV_\" + Condition  + \"_Subject_\" + str(subject)+ \".npy\"\n",
    "\n",
    "        np.save(file_name, accuracy_list)"
   ]
  },
  {
   "cell_type": "markdown",
   "metadata": {},
   "source": [
    "## Klasifikacija"
   ]
  },
  {
   "cell_type": "code",
   "execution_count": null,
   "metadata": {},
   "outputs": [],
   "source": [
    "for subject in SUBJECT_NUMBERS:\n",
    "\n",
    "    X, y = Extract_data_from_subject(ROOT, subject, DATA_TYPE)\n",
    "    # vreme kada postoji nadrazaj\n",
    "    X = Select_time_window(X, START_T, END_T, SAMPLE_FREQ)\n",
    "    # izvlacenje samo covert trial-a za sva 4 pravca\n",
    "    X, y = Transform_for_classificator(X, y, CONDITIONS, CLASSES)\n",
    "\n",
    "    X = bandpass_filter(bands, SAMPLE_FREQ, X, DEVICE)\n",
    "\n",
    "    outer_cv = StratifiedKFold(n_splits=N_SPLITS, shuffle=True, random_state=42)\n",
    "\n",
    "\n",
    "    model = CNN()\n",
    "    model.to(DEVICE)\n",
    "    optimizer = optim.Adam(model.parameters(), lr=LR_STEP_SIZE)\n",
    "\n",
    "    # store avg accuracy for each fold\n",
    "    cv_metrics_log = [0 for i in range(N_SPLITS)]\n",
    "\n",
    "    # CV\n",
    "    for i, (train_indices, test_indices) in enumerate(outer_cv.split(X, y)):\n",
    "\n",
    "        # Pretprocesiranje\n",
    "        y_train, y_test = y[train_indices], y[test_indices]\n",
    "        X_train, X_test = X[train_indices], X[test_indices]\n",
    "\n",
    "        # Skaliranje\n",
    "        train_shape = X_train.shape\n",
    "        test_shape = X_test.shape\n",
    "\n",
    "        flattened_X_train = X_train.reshape(train_shape[0], -1)\n",
    "        flattened_X_test = X_test.reshape(test_shape[0], -1)\n",
    "\n",
    "        scaled_train = scaler.fit_transform(flattened_X_train)\n",
    "        X_train = scaled_train.reshape(train_shape)\n",
    "\n",
    "        scaled_test = scaler.transform(flattened_X_test)\n",
    "        X_test = scaled_test.reshape(test_shape)\n",
    "\n",
    "        # Tenzori\n",
    "        X_train = torch.tensor(X_train, dtype=torch.float32)\n",
    "        y_train = torch.tensor(y_train, dtype=torch.int64)\n",
    "        X_test = torch.tensor(X_test, dtype=torch.float32)\n",
    "        y_test = torch.tensor(y_test, dtype=torch.int64)\n",
    "\n",
    "        # Create datasets for cross validation\n",
    "        train_dataset = TensorDataset(X_train, y_train)\n",
    "        test_dataset = TensorDataset(X_test, y_test)\n",
    "        train_dataloader = DataLoader(train_dataset, batch_size = BATCH_SIZE, shuffle = False)\n",
    "        test_dataloader = DataLoader(test_dataset, batch_size = BATCH_SIZE, shuffle = False)\n",
    "\n",
    "        for _ in range(EPOCHS):\n",
    "          cnn_train_loop(train_dataloader, model, loss_fn, optimizer, DEVICE)\n",
    "          cv_metrics_log[i] += cnn_test_loop(test_dataloader, model, loss_fn, DEVICE)\n",
    "        \n",
    "        # avg accuracy for current fold\n",
    "        cv_metrics_log[i] /= EPOCHS\n",
    "\n",
    "\n",
    "\n",
    "    # end of CV loop\n",
    "    best_accuracy = max(cv_metrics_log)\n",
    "    avg_model_accuracy = sum(cv_metrics_log)/N_SPLITS\n",
    "    print(f'Subject: {subject} NN: Avg accuracy: {avg_model_accuracy} Best accuracy: {best_accuracy}')\n",
    "    save_results_for_participant(\"TORCH\", \"CNN\", SAVE, SAVE_DIR, CONDITIONS[0], subject, avg_model_accuracy)"
   ]
  }
 ],
 "metadata": {
  "kernelspec": {
   "display_name": "base",
   "language": "python",
   "name": "python3"
  },
  "language_info": {
   "codemirror_mode": {
    "name": "ipython",
    "version": 3
   },
   "file_extension": ".py",
   "mimetype": "text/x-python",
   "name": "python",
   "nbconvert_exporter": "python",
   "pygments_lexer": "ipython3",
   "version": "3.9.18"
  }
 },
 "nbformat": 4,
 "nbformat_minor": 2
}
